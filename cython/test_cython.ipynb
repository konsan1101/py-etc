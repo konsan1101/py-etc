{
 "nbformat": 4,
 "nbformat_minor": 2,
 "metadata": {
  "language_info": {
   "name": "python",
   "codemirror_mode": {
    "name": "ipython",
    "version": 3
   },
   "version": "3.7.6-final"
  },
  "orig_nbformat": 2,
  "file_extension": ".py",
  "mimetype": "text/x-python",
  "name": "python",
  "npconvert_exporter": "python",
  "pygments_lexer": "ipython3",
  "version": 3,
  "kernelspec": {
   "name": "python37664bit1eee703e43454e0295363c3f9117abb8",
   "display_name": "Python 3.7.6 64-bit"
  }
 },
 "cells": [
  {
   "cell_type": "code",
   "execution_count": 5,
   "metadata": {},
   "outputs": [
    {
     "ename": "SyntaxError",
     "evalue": "invalid syntax (<ipython-input-5-cd9d841f3cd9>, line 18)",
     "output_type": "error",
     "traceback": [
      "\u001b[1;36m  File \u001b[1;32m\"<ipython-input-5-cd9d841f3cd9>\"\u001b[1;36m, line \u001b[1;32m18\u001b[0m\n\u001b[1;33m    def fib_typed_cython(int n):\u001b[0m\n\u001b[1;37m                             ^\u001b[0m\n\u001b[1;31mSyntaxError\u001b[0m\u001b[1;31m:\u001b[0m invalid syntax\n"
     ]
    }
   ],
   "source": [
    "# %%cython\n",
    "# %load_ext Cython\n",
    "\n",
    "def fib_python(n):\n",
    "    a, b = 0, 1\n",
    "    for i in range(n):\n",
    "        a, b = a + b, a\n",
    "    return a\n",
    "\n",
    "\n",
    "%%cython\n",
    "def fib_cython(n):\n",
    "    a, b = 0, 1\n",
    "    for i in range(n):\n",
    "        a, b = a + b, a\n",
    "    return a\n",
    "\n",
    "%%cython\n",
    "def fib_typed_cython(int n):\n",
    "    a, b = 0, 1\n",
    "    for i in range(n):\n",
    "        a, b = a + b, a\n",
    "    return a\n",
    "\n",
    "#%%cython\n",
    "#def fib_all_typed_cython(int n):\n",
    "#    cdef int a,b,i\n",
    "#    \n",
    "#    a, b = 0, 1\n",
    "#    for i in range(n):\n",
    "#        a, b = a + b, a\n",
    "#    return a\n",
    "\n"
   ]
  },
  {
   "cell_type": "code",
   "execution_count": null,
   "metadata": {},
   "outputs": [],
   "source": [
    "\n",
    "\n",
    "# %timeit fib_python(5000)              # 関数1\n",
    "# %timeit fib_cython(5000)              # 関数2\n",
    "# %timeit fib_typed_cython(5000)        # 関数3\n",
    "# %timeit fib_all_typed_cython(5000)    # 関数4\n",
    "\n",
    "fib_python(5000)              # 関数1\n"
   ]
  },
  {
   "cell_type": "code",
   "execution_count": null,
   "metadata": {},
   "outputs": [],
   "source": []
  }
 ]
}